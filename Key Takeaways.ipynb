{
 "cells": [
  {
   "cell_type": "markdown",
   "metadata": {},
   "source": [
    "# Key Takeaways:\n",
    "\n",
    "## Underscores:\n",
    "\n",
    "* __underscores are provided to bring convenient in using variables__\n",
    "* __python doesnot bring any constraint to these variable, still it's accessible.__\n",
    "    * Single underscore prefix ( _var ).\n",
    "    * Single underscore postfix ( var_ ).\n",
    "    * Double underscore prefix ( __var ).\n",
    "    * Double leading and trailing underscore ( __var__ ).\n",
    "    * Single underscore\n"
   ]
  },
  {
   "cell_type": "markdown",
   "metadata": {},
   "source": [
    "## Functions:\n",
    "* __Functions are first class objects in python__\n",
    "    * Can assign them in variables\n",
    "    * Can Store it in Data Structures\n",
    "    * Can Pass as argument to other function\n",
    "    * Can return from other function\n",
    "* __Decorator function__\n",
    "    * Extend and modify behaviour of the function. (logging, authentication, rate-limiting, caching)\n",
    "    * Decorators help to simply your work"
   ]
  },
  {
   "cell_type": "markdown",
   "metadata": {},
   "source": [
    "## Instance, Class, static Methods:\n",
    "* __Instance Methods__:\n",
    "    * Instance methods takes self as agrugement, through which object state can be modified.\n",
    "    * Using self, we can access class agrument. self.`__class__`.\n",
    "* __Class Methods__:\n",
    "    * Methods takes cls as arugments.\n",
    "    * Can impact only the class variables, by this we can change all object states.\n",
    "* __Static Methods__:\n",
    "    * Methods don't have self, cls argument.\n",
    "    * It will not impact instance or class\n",
    "    * Much easier to test as it's idenpendent function.\n"
   ]
  },
  {
   "cell_type": "markdown",
   "metadata": {},
   "source": [
    "## Abstract Base Class\n",
    "* Allows to have constraint for subclass object creation. \n"
   ]
  },
  {
   "cell_type": "markdown",
   "metadata": {},
   "source": [
    "## Links for more \n",
    "\n",
    "* https://www.codementor.io/sheena/advanced-use-python-decorators-class-function-du107nxsv\n",
    "* http://sebastianraschka.com/Articles/2014_python_2_3_key_diff.html"
   ]
  },
  {
   "cell_type": "code",
   "execution_count": null,
   "metadata": {
    "collapsed": true
   },
   "outputs": [],
   "source": []
  },
  {
   "cell_type": "code",
   "execution_count": null,
   "metadata": {
    "collapsed": true
   },
   "outputs": [],
   "source": []
  }
 ],
 "metadata": {
  "kernelspec": {
   "display_name": "Python 3",
   "language": "python",
   "name": "python3"
  },
  "language_info": {
   "codemirror_mode": {
    "name": "ipython",
    "version": 3
   },
   "file_extension": ".py",
   "mimetype": "text/x-python",
   "name": "python",
   "nbconvert_exporter": "python",
   "pygments_lexer": "ipython3",
   "version": "3.6.1"
  }
 },
 "nbformat": 4,
 "nbformat_minor": 2
}
