{
 "cells": [
  {
   "cell_type": "markdown",
   "metadata": {},
   "source": [
    "## Python Functions - First class objects\n",
    "* Can assign them in variables\n",
    "* Can Store it in Data Structures\n",
    "* Can Pass as argument to other functions\n",
    "* Can return from other function\n",
    "\n",
    "###### Understanding above will help us to understand advance concepts like lamda or decorators easily. "
   ]
  },
  {
   "cell_type": "markdown",
   "metadata": {},
   "source": [
    "##### assign them in variables"
   ]
  },
  {
   "cell_type": "code",
   "execution_count": 33,
   "metadata": {},
   "outputs": [
    {
     "name": "stdout",
     "output_type": "stream",
     "text": [
      "this is actual function\n",
      "this is actual function\n"
     ]
    },
    {
     "ename": "NameError",
     "evalue": "name 'actual' is not defined",
     "output_type": "error",
     "traceback": [
      "\u001b[0;31m---------------------------------------------------------------------------\u001b[0m",
      "\u001b[0;31mNameError\u001b[0m                                 Traceback (most recent call last)",
      "\u001b[0;32m<ipython-input-33-9fbe94c418ad>\u001b[0m in \u001b[0;36m<module>\u001b[0;34m()\u001b[0m\n\u001b[1;32m     14\u001b[0m \u001b[0;32mdel\u001b[0m \u001b[0mactual\u001b[0m\u001b[0;34m\u001b[0m\u001b[0m\n\u001b[1;32m     15\u001b[0m \u001b[0;34m\u001b[0m\u001b[0m\n\u001b[0;32m---> 16\u001b[0;31m \u001b[0mactual\u001b[0m\u001b[0;34m(\u001b[0m\u001b[0;34m)\u001b[0m\u001b[0;34m\u001b[0m\u001b[0m\n\u001b[0m\u001b[1;32m     17\u001b[0m \u001b[0mcopied\u001b[0m\u001b[0;34m(\u001b[0m\u001b[0;34m)\u001b[0m\u001b[0;34m\u001b[0m\u001b[0m\n",
      "\u001b[0;31mNameError\u001b[0m: name 'actual' is not defined"
     ]
    }
   ],
   "source": [
    "def actual():\n",
    "    print(\"this is actual function\")\n",
    "\n",
    "copied = actual\n",
    "\n",
    "\n",
    "#function names and object are two diffent enties. HE\n",
    "\n",
    "actual()\n",
    "copied()\n",
    "\n",
    "\n",
    "\n",
    "del actual\n",
    "\n",
    "actual()\n",
    "copied()"
   ]
  },
  {
   "cell_type": "code",
   "execution_count": null,
   "metadata": {
    "collapsed": true
   },
   "outputs": [],
   "source": [
    "### Store it in Data Structures\n",
    "\n",
    "def func1():\n",
    "    return \"called func1\"\n",
    "\n",
    "\n",
    "def func2():\n",
    "    return \"called func2\"\n",
    "\n",
    "\n",
    "lst = [func1, func2]\n",
    "lst[0]()\n"
   ]
  },
  {
   "cell_type": "code",
   "execution_count": null,
   "metadata": {
    "collapsed": true
   },
   "outputs": [],
   "source": [
    "## can pass as a argument\n",
    "\n",
    "def func2(f):\n",
    "    return f()\n",
    "\n",
    "def func1():\n",
    "    return \"this is func1\"\n",
    "\n",
    "func2(func1)"
   ]
  },
  {
   "cell_type": "code",
   "execution_count": null,
   "metadata": {
    "collapsed": true
   },
   "outputs": [],
   "source": [
    "## return pass as a argument\n",
    "\n",
    "def func2():\n",
    "    return func1\n",
    "\n",
    "def func1():\n",
    "    return \"this is func1\"\n",
    "\n",
    "result = func2()\n",
    "print(result)"
   ]
  },
  {
   "cell_type": "code",
   "execution_count": 2,
   "metadata": {},
   "outputs": [
    {
     "name": "stdout",
     "output_type": "stream",
     "text": [
      "hello World\n"
     ]
    }
   ],
   "source": [
    "## functions can be Nested\n",
    "\n",
    "def hello():\n",
    "    def world():\n",
    "        print(\"hello World\")\n",
    "    return world()\n",
    "\n",
    "hello()"
   ]
  },
  {
   "cell_type": "code",
   "execution_count": 5,
   "metadata": {},
   "outputs": [
    {
     "name": "stdout",
     "output_type": "stream",
     "text": [
      "<function hello.<locals>.world at 0x1060681e0>\n",
      "Hello kamal!\n"
     ]
    }
   ],
   "source": [
    "## functions Capture local state - ##Closure\n",
    "\n",
    "def hello(name):\n",
    "    def world():\n",
    "        print(\"Hello \"+name+\"!\")\n",
    "    return world\n",
    "\n",
    "w = hello(\"kamal\")\n",
    "print(w)\n",
    "w()"
   ]
  },
  {
   "cell_type": "code",
   "execution_count": null,
   "metadata": {
    "collapsed": true
   },
   "outputs": [],
   "source": []
  }
 ],
 "metadata": {
  "kernelspec": {
   "display_name": "Python 3",
   "language": "python",
   "name": "python3"
  },
  "language_info": {
   "codemirror_mode": {
    "name": "ipython",
    "version": 3
   },
   "file_extension": ".py",
   "mimetype": "text/x-python",
   "name": "python",
   "nbconvert_exporter": "python",
   "pygments_lexer": "ipython3",
   "version": "3.6.1"
  }
 },
 "nbformat": 4,
 "nbformat_minor": 2
}
